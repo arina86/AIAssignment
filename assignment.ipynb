{
 "cells": [
  {
   "cell_type": "code",
   "execution_count": 1,
   "metadata": {},
   "outputs": [
    {
     "name": "stdout",
     "output_type": "stream",
     "text": [
      "--- 459.3289318084717 seconds ---\n"
     ]
    }
   ],
   "source": [
    "from pyamaze import maze,agent,textLabel\n",
    "from queue import PriorityQueue\n",
    "import time\n",
    "def heuristic(currentNode,goalNode): #h(n) L shape from current node to goal\n",
    "    x1,y1=currentNode #current node\n",
    "    x2,y2=goalNode #goal node          #4,3  h(n)= 5 Example node for h(n)\n",
    "    return abs(x1-x2) + abs(y1-y2) #heuristic formula\n",
    "\n",
    "\n",
    "def aStarSearch(m):\n",
    "    startPosition=(m.rows,m.cols)#starting position is the size of the maze\n",
    "\n",
    "    nodeQueue=PriorityQueue() #Highest priority to lowest priority\n",
    "    nodeQueue.put((heuristic(startPosition,m._goal),heuristic(startPosition,m._goal),startPosition)) \n",
    "    #f(n),h(n),current node position. (if f(n) is same, then h(n) is checked) Inside the priorityQueue is all the possible solution nodes.\n",
    "\n",
    "    g_score={cell:float('inf') for cell in m.grid} #cost from the start to the current node\n",
    "    g_score[startPosition]=0\n",
    "    f_score={cell:float('inf') for cell in m.grid} # total cost = g(n) + h(n)\n",
    "    f_score[startPosition]=heuristic(startPosition,m._goal) #f(n) score of the starting node is h(n) since g(n) is 0\n",
    "\n",
    "    \n",
    "    aPath={}\n",
    "    directionList = \"EWNS\"\n",
    "    while not nodeQueue.empty():\n",
    "        currentCell=nodeQueue.get()[2] #open.get the current position of the node\n",
    "        if currentCell==m._goal:#if at goal, break\n",
    "            break\n",
    "        for direction in directionList: \n",
    "            if m.maze_map[currentCell][direction]==True:\n",
    "                #if the E or S or N or W is available to go for the current node. for example E = 1 will execute if E\n",
    "                #ChildCell is the neighboring cell from the current node cell\n",
    "                if direction=='E':\n",
    "                    neighborCell=(currentCell[0],currentCell[1]+1)\n",
    "                if direction=='W':\n",
    "                    neighborCell=(currentCell[0],currentCell[1]-1)\n",
    "                if direction=='N':\n",
    "                    neighborCell=(currentCell[0]-1,currentCell[1])\n",
    "                if direction=='S':\n",
    "                    neighborCell=(currentCell[0]+1,currentCell[1])\n",
    "\n",
    "                temp_g_score=g_score[currentCell]+1 #+1 because inclusive of the starting node\n",
    "                temp_f_score=temp_g_score+heuristic(neighborCell,m._goal)#f(n)\n",
    "\n",
    "                if temp_f_score < f_score[neighborCell]: #check if the temp f(n) score is lower than the current neighbor f(n)                                            \n",
    "                    g_score[neighborCell]= temp_g_score\n",
    "                    f_score[neighborCell]= temp_f_score\n",
    "                    nodeQueue.put((temp_f_score,heuristic(neighborCell,m._goal),neighborCell))\n",
    "                    aPath[neighborCell]=currentCell\n",
    "                    \n",
    "    \n",
    "\n",
    "    fwdPath={}\n",
    "    cell=m._goal\n",
    "    while cell!=startPosition:#path of the maze journey\n",
    "        fwdPath[aPath[cell]]=cell\n",
    "        cell=aPath[cell]\n",
    "        \n",
    "  \n",
    "    return fwdPath\n",
    "\n",
    "if __name__=='__main__':\n",
    "    m=maze()\n",
    "    m.CreateMaze(loadMaze= \"maze4.csv\")\n",
    "    path=aStarSearch(m)\n",
    "\n",
    "    a=agent(m,footprints=True)\n",
    "    m.tracePath({a:path})\n",
    "    l=textLabel(m,'A Star Path Length',len(path)+1)\n",
    "\n",
    "    start_time = time.time()\n",
    "    \n",
    "    m.run()\n",
    "    time1 = (time.time() - start_time)\n",
    "    print(\"--- %s seconds ---\" % time1)"
   ]
  },
  {
   "cell_type": "code",
   "execution_count": 2,
   "metadata": {},
   "outputs": [
    {
     "name": "stdout",
     "output_type": "stream",
     "text": [
      "--- 14.588948965072632 seconds ---\n"
     ]
    }
   ],
   "source": [
    "import time\n",
    "def DFS(currentNode,destination,m,maxDepth,curList,path,explored):\n",
    "    \n",
    "    curList.append(currentNode) #to keep track of the path\n",
    "    frontier = [] #to store child nodes of current node\n",
    "    \n",
    "    for d in \"ESNW\": #searching the child node for current node\n",
    "        if m.maze_map[currentNode][d]==True:\n",
    "            if d==\"E\":\n",
    "                childCell=(currentNode[0], currentNode[1]+1)\n",
    "            elif d==\"W\":\n",
    "                childCell=(currentNode[0], currentNode[1]-1)\n",
    "            elif d==\"S\":\n",
    "                childCell=(currentNode[0]+1, currentNode[1])\n",
    "            elif d==\"N\":\n",
    "                childCell=(currentNode[0]-1, currentNode[1])\n",
    "\n",
    "            if childCell in explored:\n",
    "                continue\n",
    "\n",
    "            explored.append(childCell) \n",
    "            frontier.append(childCell) \n",
    " \n",
    "    \n",
    "    if currentNode==destination: \n",
    "        return True\n",
    "    \n",
    "    if maxDepth<=0: #if current depth has reached the depth 0, then stop the search and return false\n",
    "        path.append(curList)\n",
    "        return False\n",
    "           \n",
    "    for node in frontier: #do dfs for the child nodes of the current node\n",
    "        if DFS(node,destination,m,maxDepth-1,curList,path,explored):\n",
    "            path.append(curList)\n",
    "            return True\n",
    "        else:\n",
    "            curList.pop()\n",
    "    return False\n",
    "\n",
    "def IDDFS(m,maxDepth):\n",
    "    currentNode = (m.rows,m.cols) #start node\n",
    "    destination = m._goal #goal node\n",
    "    \n",
    "    while maxDepth >= 0: #if maxDepth runs until goal is found\n",
    "        path = list()\n",
    "        curList = list()\n",
    "        explored = list()\n",
    "        frontier = list()\n",
    "        explored = [(m.rows,m.cols)] #initialize explored list with the start node\n",
    "\n",
    "        if DFS(currentNode,destination,m,maxDepth,curList,path,explored): #if true then it returns true with the path taken\n",
    "            return True,path.pop()\n",
    "        maxDepth += 1 # if not true, maxDepth is increased to 1 for the next iteration\n",
    "    return False\n",
    "\n",
    "\n",
    "from pyamaze import maze, agent\n",
    "\n",
    "m = maze()\n",
    "m.CreateMaze(loadMaze=\"maze4.csv\")\n",
    "\n",
    "a=agent(m,footprints=True)\n",
    "\n",
    "val, path = IDDFS(m,0) #parameter: maze, depth 0 #return: True, path\n",
    "\n",
    "m.tracePath({a:path})\n",
    "start_time = time.time()\n",
    "m.run()\n",
    "print(\"--- %s seconds ---\" % (time.time() - start_time))"
   ]
  },
  {
   "cell_type": "code",
   "execution_count": 3,
   "metadata": {},
   "outputs": [
    {
     "data": {
      "text/plain": [
       "Text(0, 0.5, 'Algorithm Time')"
      ]
     },
     "execution_count": 3,
     "metadata": {},
     "output_type": "execute_result"
    },
    {
     "data": {
      "image/png": "[encoded data removed]",
      "text/plain": [
       "<Figure size 432x288 with 1 Axes>"
      ]
     },
     "metadata": {
      "needs_background": "light"
     },
     "output_type": "display_data"
    }
   ],
   "source": [
    "import matplotlib.pyplot as plt\n",
    "import pandas as pd\n",
    "import seaborn as sns\n",
    "\n",
    "df = pd.read_csv(\"timefileastar.txt\",names=[\"Time A Star\"])\n",
    "df[\"Time IDS\"] = pd.read_csv(\"timefileids.txt\",names=[\"Time IDS\"])\n",
    "\n",
    "\n",
    "timeplot = df.plot(kind= \"bar\")\n",
    "timeplot.set_xlabel(\"Mazes from 1 - 5\")\n",
    "timeplot.set_ylabel(\"Algorithm Time\")\n"
   ]
  },
  {
   "cell_type": "code",
   "execution_count": null,
   "metadata": {},
   "outputs": [],
   "source": []
  }
 ],
 "metadata": {
  "interpreter": {
   "hash": "8fac594bfae6525c0c41b4041d2d72effa188cc8ead05f81b1fab2bb098927fb"
  },
  "kernelspec": {
   "display_name": "Python 3 (ipykernel)",
   "language": "python",
   "name": "python3"
  },
  "language_info": {
   "codemirror_mode": {
    "name": "ipython",
    "version": 3
   },
   "file_extension": ".py",
   "mimetype": "text/x-python",
   "name": "python",
   "nbconvert_exporter": "python",
   "pygments_lexer": "ipython3",
   "version": "3.9.7"
  }
 },
 "nbformat": 4,
 "nbformat_minor": 2
}
